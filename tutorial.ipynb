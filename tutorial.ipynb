{
 "cells": [
  {
   "cell_type": "markdown",
   "metadata": {},
   "source": [
    "## Getting started\n",
    "Upload needed libraries and setting up the dataset"
   ]
  },
  {
   "cell_type": "code",
   "execution_count": 1,
   "metadata": {},
   "outputs": [
    {
     "name": "stdout",
     "output_type": "stream",
     "text": [
      "Bellatrex version: 0.3.0\n",
      "c:\\Users\\KlestDedja\\Documents\\GitHub\\Bellatrex\n"
     ]
    }
   ],
   "source": [
    "import numpy as np\n",
    "import pandas as pd\n",
    "import os\n",
    "import bellatrex as btrex\n",
    "print(\"Bellatrex version:\", btrex.__version__)\n",
    "\n",
    "PLOT_GUI = False\n",
    "\n",
    "##########################################################################\n",
    "root_folder = os.getcwd()\n",
    "print(root_folder)"
   ]
  },
  {
   "cell_type": "code",
   "execution_count": 2,
   "metadata": {},
   "outputs": [],
   "source": [
    "from sksurv.ensemble import RandomSurvivalForest\n",
    "from sklearn.ensemble import RandomForestClassifier\n",
    "from sklearn.ensemble import RandomForestRegressor\n",
    "\n",
    "from sklearn.model_selection import train_test_split\n",
    "\n",
    "\n",
    "from bellatrex.datasets import load_mtr_data, load_mlc_data\n",
    "from bellatrex.datasets import load_survival_data, load_binary_data, load_regression_data\n",
    "from bellatrex.utilities import get_auto_setup\n",
    "\n",
    "X, y = load_binary_data(return_X_y=True)\n",
    "# X, y = load_regression_data(return_X_y=True)\n",
    "# X, y = load_survival_data(return_X_y=True)\n",
    "# X, y = load_mlc_data(return_X_y=True)\n",
    "# X, y = load_mtr_data(return_X_y=True)\n",
    "\n",
    "X_train, X_test, y_train, y_test = train_test_split(X, y, test_size=0.3, random_state=0)"
   ]
  },
  {
   "cell_type": "markdown",
   "metadata": {},
   "source": [
    "Depending on the prediction task, we train a compatible Random Forest model."
   ]
  },
  {
   "cell_type": "code",
   "execution_count": 3,
   "metadata": {},
   "outputs": [
    {
     "name": "stdout",
     "output_type": "stream",
     "text": [
      "Detected prediction task 'SETUP': binary\n",
      "Model fitting complete.\n"
     ]
    }
   ],
   "source": [
    "SETUP = get_auto_setup(y) # not necessary, but comfortable while swithcing between mnay prediction tasks\n",
    "print('Detected prediction task \\'SETUP\\':', SETUP)\n",
    "\n",
    "from sksurv.ensemble import RandomSurvivalForest\n",
    "from sklearn.ensemble import RandomForestClassifier\n",
    "from sklearn.ensemble import RandomForestRegressor\n",
    "\n",
    "### instantiate original R(S)F estimator, works best with some pruning.\n",
    "if SETUP.lower() in 'survival':\n",
    "    clf = RandomSurvivalForest(n_estimators=100, min_samples_split=10,\n",
    "                                n_jobs=-2, random_state=0)\n",
    "\n",
    "elif SETUP.lower() in ['binary', 'multi-label']:\n",
    "    clf = RandomForestClassifier(n_estimators=100, min_samples_split=5,\n",
    "                                n_jobs=-2, random_state=0)\n",
    "\n",
    "elif SETUP.lower() in ['regression', 'multi-target']:\n",
    "    clf = RandomForestRegressor(n_estimators=100, min_samples_split=5,\n",
    "                                n_jobs=-2, random_state=0)\n",
    "\n",
    "\n",
    "clf.fit(X_train, y_train)\n",
    "print('Model fitting complete.')"
   ]
  },
  {
   "cell_type": "markdown",
   "metadata": {},
   "source": [
    "In case the RF model to be explained is already trained externally, it can be loaded and packed with the following lines:"
   ]
  },
  {
   "cell_type": "code",
   "execution_count": 4,
   "metadata": {},
   "outputs": [],
   "source": [
    "from bellatrex.wrapper_class import pack_trained_ensemble\n",
    "\n",
    "# Pretrained RF model should be packed as a list of dicts with the function below.\n",
    "clf_packed = pack_trained_ensemble(clf)"
   ]
  },
  {
   "cell_type": "markdown",
   "metadata": {},
   "source": [
    "The function `pack_trained_ensemble` stores a memory-efficient version of the model, making the model \n",
    "compatible not only with Bellatrex but also with [SHAP](https://shap.readthedocs.io/en/latest/)\n",
    "\n",
    "The packed `clf_packed` model can now be passed into Bellatrex.\n",
    "\n",
    "## Building Explanations\n",
    "Now we can fit Bellatrex on the training data and run it on a few test samples\n",
    "After fitting and tuning the explainer to a specific test instance, you can:\n",
    "- `plot_overview()` to get a representation of the tree learners, and of the selected rules;\n",
    "    GUI is available for this plotting method (set the paramter `plot_gui = True`).\n",
    "- `plot_visuals()` to visualise the selected rules in a more use friendly way."
   ]
  },
  {
   "cell_type": "code",
   "execution_count": 6,
   "metadata": {},
   "outputs": [
    {
     "name": "stdout",
     "output_type": "stream",
     "text": [
      "Model is already fitted, building explanation.\n",
      "oracle_sample is: None\n",
      "Automatically setting prediction task to: binary\n",
      "Explaining sample i=0\n",
      "best params: {'n_clusters': 2, 'n_dims': None, 'n_trees': 100}\n",
      "Achieved fidelity: 0.9705\n",
      "final trees indices: [86 78]\n",
      "final cluster sizes: [46 54]\n",
      "Bellatrex prediction: 0.131\n",
      "Black box prediction: 0.1019\n",
      "##########################################################\n",
      "Removed txt files from:\n",
      "C:\\Users\\KlestDedja\\Documents\\GitHub\\Bellatrex\\app\\bellatrex\\explanations_text\n"
     ]
    },
    {
     "ename": "ValueError",
     "evalue": "setting an array element with a sequence. The requested array has an inhomogeneous shape after 1 dimensions. The detected shape was (10,) + inhomogeneous part.",
     "output_type": "error",
     "traceback": [
      "\u001b[31m---------------------------------------------------------------------------\u001b[39m",
      "\u001b[31mValueError\u001b[39m                                Traceback (most recent call last)",
      "\u001b[36mCell\u001b[39m\u001b[36m \u001b[39m\u001b[32mIn[6]\u001b[39m\u001b[32m, line 23\u001b[39m\n\u001b[32m     18\u001b[39m tuned_method = Btrex_fitted.explain(X_test, i)\n\u001b[32m     20\u001b[39m fig1, axs1 = tuned_method.plot_overview(plot_gui=\u001b[38;5;28;01mFalse\u001b[39;00m,\n\u001b[32m     21\u001b[39m                            show=\u001b[38;5;28;01mTrue\u001b[39;00m)\n\u001b[32m---> \u001b[39m\u001b[32m23\u001b[39m fig2, axs2 = \u001b[43mtuned_method\u001b[49m\u001b[43m.\u001b[49m\u001b[43mplot_visuals\u001b[49m\u001b[43m(\u001b[49m\u001b[43mplot_max_depth\u001b[49m\u001b[43m=\u001b[49m\u001b[32;43m5\u001b[39;49m\u001b[43m,\u001b[49m\n\u001b[32m     24\u001b[39m \u001b[43m                          \u001b[49m\u001b[43mpreds_distr\u001b[49m\u001b[43m=\u001b[49m\u001b[43my_train_pred\u001b[49m\u001b[43m,\u001b[49m\n\u001b[32m     25\u001b[39m \u001b[43m                          \u001b[49m\u001b[43mconf_level\u001b[49m\u001b[43m=\u001b[49m\u001b[32;43m0.9\u001b[39;49m\u001b[43m,\u001b[49m\n\u001b[32m     26\u001b[39m \u001b[43m                          \u001b[49m\u001b[43mtot_digits\u001b[49m\u001b[43m=\u001b[49m\u001b[32;43m4\u001b[39;49m\u001b[43m,\u001b[49m\u001b[43m \u001b[49m\u001b[43mshow\u001b[49m\u001b[43m=\u001b[49m\u001b[38;5;28;43;01mFalse\u001b[39;49;00m\u001b[43m)\u001b[49m\n\u001b[32m     27\u001b[39m plt.show(fig1)\n\u001b[32m     28\u001b[39m plt.show(fig2)\n",
      "\u001b[36mFile \u001b[39m\u001b[32m~\\Documents\\GitHub\\Bellatrex\\app\\bellatrex\\LocalMethod_class.py:636\u001b[39m, in \u001b[36mBellatrexExplain.plot_visuals\u001b[39m\u001b[34m(self, plot_max_depth, preds_distr, conf_level, tot_digits, b_box_pred, keep_files, out_file, show)\u001b[39m\n\u001b[32m    633\u001b[39m     \u001b[38;5;28;01mif\u001b[39;00m \u001b[38;5;28mself\u001b[39m.verbose >= \u001b[32m3\u001b[39m:\n\u001b[32m    634\u001b[39m         \u001b[38;5;28mprint\u001b[39m(\u001b[33mf\u001b[39m\u001b[33m\"\u001b[39m\u001b[33mRemoved txt files from:\u001b[39m\u001b[38;5;130;01m\\n\u001b[39;00m\u001b[38;5;132;01m{\u001b[39;00mos.path.dirname(out_file)\u001b[38;5;132;01m}\u001b[39;00m\u001b[33m\"\u001b[39m)\n\u001b[32m--> \u001b[39m\u001b[32m636\u001b[39m fig, axs = \u001b[43mplot_rules\u001b[49m\u001b[43m(\u001b[49m\n\u001b[32m    637\u001b[39m \u001b[43m    \u001b[49m\u001b[43mrules\u001b[49m\u001b[43m,\u001b[49m\n\u001b[32m    638\u001b[39m \u001b[43m    \u001b[49m\u001b[43mpreds\u001b[49m\u001b[43m,\u001b[49m\n\u001b[32m    639\u001b[39m \u001b[43m    \u001b[49m\u001b[43mbaselines\u001b[49m\u001b[43m,\u001b[49m\n\u001b[32m    640\u001b[39m \u001b[43m    \u001b[49m\u001b[43mweights\u001b[49m\u001b[43m,\u001b[49m\n\u001b[32m    641\u001b[39m \u001b[43m    \u001b[49m\u001b[43mmax_rulelen\u001b[49m\u001b[43m=\u001b[49m\u001b[43mplot_max_depth\u001b[49m\u001b[43m,\u001b[49m\n\u001b[32m    642\u001b[39m \u001b[43m    \u001b[49m\u001b[43mother_preds\u001b[49m\u001b[43m=\u001b[49m\u001b[43mother_preds\u001b[49m\u001b[43m,\u001b[49m\n\u001b[32m    643\u001b[39m \u001b[43m    \u001b[49m\u001b[43mbase_fontsize\u001b[49m\u001b[43m=\u001b[49m\u001b[38;5;28;43mself\u001b[39;49m\u001b[43m.\u001b[49m\u001b[43mFONT_SIZE\u001b[49m\u001b[43m \u001b[49m\u001b[43m-\u001b[49m\u001b[43m \u001b[49m\u001b[32;43m1\u001b[39;49m\u001b[43m,\u001b[49m\n\u001b[32m    644\u001b[39m \u001b[43m    \u001b[49m\u001b[43mconf_level\u001b[49m\u001b[43m=\u001b[49m\u001b[43mconf_level\u001b[49m\u001b[43m,\u001b[49m\n\u001b[32m    645\u001b[39m \u001b[43m    \u001b[49m\u001b[43mtot_digits\u001b[49m\u001b[43m=\u001b[49m\u001b[43mtot_digits\u001b[49m\u001b[43m,\u001b[49m\n\u001b[32m    646\u001b[39m \u001b[43m    \u001b[49m\u001b[38;5;66;43;03m# cmap='shap',\u001b[39;49;00m\n\u001b[32m    647\u001b[39m \u001b[43m    \u001b[49m\u001b[43mpreds_distr\u001b[49m\u001b[43m=\u001b[49m\u001b[43mpreds_distr\u001b[49m\u001b[43m,\u001b[49m\n\u001b[32m    648\u001b[39m \u001b[43m    \u001b[49m\u001b[43mb_box_pred\u001b[49m\u001b[43m=\u001b[49m\u001b[43mb_box_pred\u001b[49m\u001b[43m,\u001b[49m\n\u001b[32m    649\u001b[39m \u001b[43m\u001b[49m\u001b[43m)\u001b[49m  \u001b[38;5;66;03m# b_box_pred=y_test.iloc[idx]\u001b[39;00m\n\u001b[32m    651\u001b[39m \u001b[38;5;28;01mif\u001b[39;00m show \u001b[38;5;129;01mis\u001b[39;00m \u001b[38;5;28;01mTrue\u001b[39;00m:\n\u001b[32m    652\u001b[39m     plt.show()\n",
      "\u001b[36mFile \u001b[39m\u001b[32m~\\Documents\\GitHub\\Bellatrex\\app\\bellatrex\\visualisation.py:182\u001b[39m, in \u001b[36mplot_rules\u001b[39m\u001b[34m(rules, preds, baselines, weights, max_rulelen, other_preds, preds_distr, b_box_pred, conf_level, tot_digits, cmap, base_fontsize)\u001b[39m\n\u001b[32m    180\u001b[39m     \u001b[38;5;28;01mfor\u001b[39;00m bsl, ax \u001b[38;5;129;01min\u001b[39;00m \u001b[38;5;28mzip\u001b[39m(baselines, rule_axs):\n\u001b[32m    181\u001b[39m         \u001b[38;5;28;01mfor\u001b[39;00m pred \u001b[38;5;129;01min\u001b[39;00m other_preds:\n\u001b[32m--> \u001b[39m\u001b[32m182\u001b[39m             \u001b[43max\u001b[49m\u001b[43m.\u001b[49m\u001b[43mplot\u001b[49m\u001b[43m(\u001b[49m\n\u001b[32m    183\u001b[39m \u001b[43m                \u001b[49m\u001b[43m[\u001b[49m\u001b[43mbsl\u001b[49m\u001b[43m,\u001b[49m\u001b[43m \u001b[49m\u001b[43m*\u001b[49m\u001b[43mpred\u001b[49m\u001b[43m]\u001b[49m\u001b[43m,\u001b[49m\n\u001b[32m    184\u001b[39m \u001b[43m                \u001b[49m\u001b[43mnp\u001b[49m\u001b[43m.\u001b[49m\u001b[43marange\u001b[49m\u001b[43m(\u001b[49m\u001b[38;5;28;43mlen\u001b[39;49m\u001b[43m(\u001b[49m\u001b[43mpred\u001b[49m\u001b[43m)\u001b[49m\u001b[43m \u001b[49m\u001b[43m+\u001b[49m\u001b[43m \u001b[49m\u001b[32;43m1\u001b[39;49m\u001b[43m)\u001b[49m\u001b[43m,\u001b[49m\n\u001b[32m    185\u001b[39m \u001b[43m                \u001b[49m\u001b[43mc\u001b[49m\u001b[43m=\u001b[49m\u001b[43m[\u001b[49m\u001b[32;43m0.9\u001b[39;49m\u001b[43m,\u001b[49m\u001b[43m \u001b[49m\u001b[32;43m0.9\u001b[39;49m\u001b[43m,\u001b[49m\u001b[43m \u001b[49m\u001b[32;43m0.9\u001b[39;49m\u001b[43m]\u001b[49m\u001b[43m,\u001b[49m\n\u001b[32m    186\u001b[39m \u001b[43m                \u001b[49m\u001b[43malpha\u001b[49m\u001b[43m=\u001b[49m\u001b[32;43m1.0\u001b[39;49m\u001b[43m,\u001b[49m\n\u001b[32m    187\u001b[39m \u001b[43m                \u001b[49m\u001b[43mzorder\u001b[49m\u001b[43m=\u001b[49m\u001b[43m-\u001b[49m\u001b[32;43m500\u001b[39;49m\u001b[43m,\u001b[49m\n\u001b[32m    188\u001b[39m \u001b[43m                \u001b[49m\u001b[43mlw\u001b[49m\u001b[43m=\u001b[49m\u001b[32;43m0.6\u001b[39;49m\u001b[43m,\u001b[49m\n\u001b[32m    189\u001b[39m \u001b[43m            \u001b[49m\u001b[43m)\u001b[49m  \u001b[38;5;66;03m# zorder compared to zorder in rule_axs\u001b[39;00m\n\u001b[32m    191\u001b[39m \u001b[38;5;66;03m# Highlight the rule of interest on each plot\u001b[39;00m\n\u001b[32m    192\u001b[39m \u001b[38;5;28;01mfor\u001b[39;00m bsl, rule, pred, ax \u001b[38;5;129;01min\u001b[39;00m \u001b[38;5;28mzip\u001b[39m(baselines, rules, preds, rule_axs):\n",
      "\u001b[36mFile \u001b[39m\u001b[32mc:\\Users\\KlestDedja\\anaconda3\\envs\\btrex\\Lib\\site-packages\\matplotlib\\axes\\_axes.py:1777\u001b[39m, in \u001b[36mAxes.plot\u001b[39m\u001b[34m(self, scalex, scaley, data, *args, **kwargs)\u001b[39m\n\u001b[32m   1534\u001b[39m \u001b[38;5;250m\u001b[39m\u001b[33;03m\"\"\"\u001b[39;00m\n\u001b[32m   1535\u001b[39m \u001b[33;03mPlot y versus x as lines and/or markers.\u001b[39;00m\n\u001b[32m   1536\u001b[39m \n\u001b[32m   (...)\u001b[39m\u001b[32m   1774\u001b[39m \u001b[33;03m(``'green'``) or hex strings (``'#008000'``).\u001b[39;00m\n\u001b[32m   1775\u001b[39m \u001b[33;03m\"\"\"\u001b[39;00m\n\u001b[32m   1776\u001b[39m kwargs = cbook.normalize_kwargs(kwargs, mlines.Line2D)\n\u001b[32m-> \u001b[39m\u001b[32m1777\u001b[39m lines = [*\u001b[38;5;28mself\u001b[39m._get_lines(\u001b[38;5;28mself\u001b[39m, *args, data=data, **kwargs)]\n\u001b[32m   1778\u001b[39m \u001b[38;5;28;01mfor\u001b[39;00m line \u001b[38;5;129;01min\u001b[39;00m lines:\n\u001b[32m   1779\u001b[39m     \u001b[38;5;28mself\u001b[39m.add_line(line)\n",
      "\u001b[36mFile \u001b[39m\u001b[32mc:\\Users\\KlestDedja\\anaconda3\\envs\\btrex\\Lib\\site-packages\\matplotlib\\axes\\_base.py:297\u001b[39m, in \u001b[36m_process_plot_var_args.__call__\u001b[39m\u001b[34m(self, axes, data, return_kwargs, *args, **kwargs)\u001b[39m\n\u001b[32m    295\u001b[39m     this += args[\u001b[32m0\u001b[39m],\n\u001b[32m    296\u001b[39m     args = args[\u001b[32m1\u001b[39m:]\n\u001b[32m--> \u001b[39m\u001b[32m297\u001b[39m \u001b[38;5;28;01myield from\u001b[39;00m \u001b[38;5;28;43mself\u001b[39;49m\u001b[43m.\u001b[49m\u001b[43m_plot_args\u001b[49m\u001b[43m(\u001b[49m\n\u001b[32m    298\u001b[39m \u001b[43m    \u001b[49m\u001b[43maxes\u001b[49m\u001b[43m,\u001b[49m\u001b[43m \u001b[49m\u001b[43mthis\u001b[49m\u001b[43m,\u001b[49m\u001b[43m \u001b[49m\u001b[43mkwargs\u001b[49m\u001b[43m,\u001b[49m\u001b[43m \u001b[49m\u001b[43mambiguous_fmt_datakey\u001b[49m\u001b[43m=\u001b[49m\u001b[43mambiguous_fmt_datakey\u001b[49m\u001b[43m,\u001b[49m\n\u001b[32m    299\u001b[39m \u001b[43m    \u001b[49m\u001b[43mreturn_kwargs\u001b[49m\u001b[43m=\u001b[49m\u001b[43mreturn_kwargs\u001b[49m\n\u001b[32m    300\u001b[39m \u001b[43m\u001b[49m\u001b[43m)\u001b[49m\n",
      "\u001b[36mFile \u001b[39m\u001b[32mc:\\Users\\KlestDedja\\anaconda3\\envs\\btrex\\Lib\\site-packages\\matplotlib\\axes\\_base.py:483\u001b[39m, in \u001b[36m_process_plot_var_args._plot_args\u001b[39m\u001b[34m(self, axes, tup, kwargs, return_kwargs, ambiguous_fmt_datakey)\u001b[39m\n\u001b[32m    480\u001b[39m         kw[prop_name] = val\n\u001b[32m    482\u001b[39m \u001b[38;5;28;01mif\u001b[39;00m \u001b[38;5;28mlen\u001b[39m(xy) == \u001b[32m2\u001b[39m:\n\u001b[32m--> \u001b[39m\u001b[32m483\u001b[39m     x = \u001b[43m_check_1d\u001b[49m\u001b[43m(\u001b[49m\u001b[43mxy\u001b[49m\u001b[43m[\u001b[49m\u001b[32;43m0\u001b[39;49m\u001b[43m]\u001b[49m\u001b[43m)\u001b[49m\n\u001b[32m    484\u001b[39m     y = _check_1d(xy[\u001b[32m1\u001b[39m])\n\u001b[32m    485\u001b[39m \u001b[38;5;28;01melse\u001b[39;00m:\n",
      "\u001b[36mFile \u001b[39m\u001b[32mc:\\Users\\KlestDedja\\anaconda3\\envs\\btrex\\Lib\\site-packages\\matplotlib\\cbook.py:1368\u001b[39m, in \u001b[36m_check_1d\u001b[39m\u001b[34m(x)\u001b[39m\n\u001b[32m   1362\u001b[39m \u001b[38;5;66;03m# plot requires `shape` and `ndim`.  If passed an\u001b[39;00m\n\u001b[32m   1363\u001b[39m \u001b[38;5;66;03m# object that doesn't provide them, then force to numpy array.\u001b[39;00m\n\u001b[32m   1364\u001b[39m \u001b[38;5;66;03m# Note this will strip unit information.\u001b[39;00m\n\u001b[32m   1365\u001b[39m \u001b[38;5;28;01mif\u001b[39;00m (\u001b[38;5;129;01mnot\u001b[39;00m \u001b[38;5;28mhasattr\u001b[39m(x, \u001b[33m'\u001b[39m\u001b[33mshape\u001b[39m\u001b[33m'\u001b[39m) \u001b[38;5;129;01mor\u001b[39;00m\n\u001b[32m   1366\u001b[39m         \u001b[38;5;129;01mnot\u001b[39;00m \u001b[38;5;28mhasattr\u001b[39m(x, \u001b[33m'\u001b[39m\u001b[33mndim\u001b[39m\u001b[33m'\u001b[39m) \u001b[38;5;129;01mor\u001b[39;00m\n\u001b[32m   1367\u001b[39m         \u001b[38;5;28mlen\u001b[39m(x.shape) < \u001b[32m1\u001b[39m):\n\u001b[32m-> \u001b[39m\u001b[32m1368\u001b[39m     \u001b[38;5;28;01mreturn\u001b[39;00m \u001b[43mnp\u001b[49m\u001b[43m.\u001b[49m\u001b[43matleast_1d\u001b[49m\u001b[43m(\u001b[49m\u001b[43mx\u001b[49m\u001b[43m)\u001b[49m\n\u001b[32m   1369\u001b[39m \u001b[38;5;28;01melse\u001b[39;00m:\n\u001b[32m   1370\u001b[39m     \u001b[38;5;28;01mreturn\u001b[39;00m x\n",
      "\u001b[36mFile \u001b[39m\u001b[32mc:\\Users\\KlestDedja\\anaconda3\\envs\\btrex\\Lib\\site-packages\\numpy\\_core\\shape_base.py:63\u001b[39m, in \u001b[36matleast_1d\u001b[39m\u001b[34m(*arys)\u001b[39m\n\u001b[32m     23\u001b[39m \u001b[38;5;250m\u001b[39m\u001b[33;03m\"\"\"\u001b[39;00m\n\u001b[32m     24\u001b[39m \u001b[33;03mConvert inputs to arrays with at least one dimension.\u001b[39;00m\n\u001b[32m     25\u001b[39m \n\u001b[32m   (...)\u001b[39m\u001b[32m     60\u001b[39m \n\u001b[32m     61\u001b[39m \u001b[33;03m\"\"\"\u001b[39;00m\n\u001b[32m     62\u001b[39m \u001b[38;5;28;01mif\u001b[39;00m \u001b[38;5;28mlen\u001b[39m(arys) == \u001b[32m1\u001b[39m:\n\u001b[32m---> \u001b[39m\u001b[32m63\u001b[39m     result = \u001b[43masanyarray\u001b[49m\u001b[43m(\u001b[49m\u001b[43marys\u001b[49m\u001b[43m[\u001b[49m\u001b[32;43m0\u001b[39;49m\u001b[43m]\u001b[49m\u001b[43m)\u001b[49m\n\u001b[32m     64\u001b[39m     \u001b[38;5;28;01mif\u001b[39;00m result.ndim == \u001b[32m0\u001b[39m:\n\u001b[32m     65\u001b[39m         result = result.reshape(\u001b[32m1\u001b[39m)\n",
      "\u001b[31mValueError\u001b[39m: setting an array element with a sequence. The requested array has an inhomogeneous shape after 1 dimensions. The detected shape was (10,) + inhomogeneous part."
     ]
    }
   ],
   "source": [
    "from bellatrex import BellatrexExplain\n",
    "from bellatrex.utilities import predict_helper\n",
    "import matplotlib.pyplot as plt\n",
    "\n",
    "#fit RF here. The hyperparameters for fitting the explanation are given\n",
    "# compatible with trained ensemble model clf, and with packed dictionary as in clf_packed\n",
    "Btrex_fitted = BellatrexExplain(clf_packed, set_up='auto',\n",
    "                                p_grid={\"n_clusters\": [1, 2, 3]},\n",
    "                                verbose=3).fit(X_train, y_train)\n",
    "\n",
    "N_TEST_SAMPLES = 2\n",
    "for i in range(N_TEST_SAMPLES):\n",
    "\n",
    "    print(f\"Explaining sample i={i}\")\n",
    "\n",
    "    y_train_pred = predict_helper(clf, X_train) # calls, predict or predict_proba, depending on the underlying model\n",
    "\n",
    "    tuned_method = Btrex_fitted.explain(X_test, i)\n",
    "\n",
    "    fig1, axs1 = tuned_method.plot_overview(plot_gui=False,\n",
    "                               show=True)\n",
    "\n",
    "    fig2, axs2 = tuned_method.plot_visuals(plot_max_depth=5,\n",
    "                              preds_distr=y_train_pred,\n",
    "                              conf_level=0.9,\n",
    "                              tot_digits=4, show=False)\n",
    "    plt.show(fig1)\n",
    "    plt.show(fig2)\n"
   ]
  }
 ],
 "metadata": {
  "kernelspec": {
   "display_name": "btrex",
   "language": "python",
   "name": "python3"
  },
  "language_info": {
   "codemirror_mode": {
    "name": "ipython",
    "version": 3
   },
   "file_extension": ".py",
   "mimetype": "text/x-python",
   "name": "python",
   "nbconvert_exporter": "python",
   "pygments_lexer": "ipython3",
   "version": "3.12.9"
  }
 },
 "nbformat": 4,
 "nbformat_minor": 2
}
